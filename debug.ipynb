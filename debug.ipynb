{
 "cells": [
  {
   "cell_type": "code",
   "execution_count": 11,
   "metadata": {},
   "outputs": [
    {
     "data": {
      "text/plain": [
       "\"*[Voir le classement de l'équipage](https://docs.google.com/spreadsheets/d/1ZgHSYOkEw6VC27ZsQ930pB9pOBSwI_bvuVDaAnu7DE4/edit#gid=947482314) and also https://docs.google.com/spreadsheets/d/1ZgHSYOkEw6VC27ZsQ930pB9pOBSwI_bvuVDaAnu7DE4/edit#gid=947482314*\""
      ]
     },
     "execution_count": 11,
     "metadata": {},
     "output_type": "execute_result"
    }
   ],
   "source": [
    "import re\n",
    "\n",
    "pattern = r\"\\${?([\\.\\w]+)}?\"\n",
    "txt = \"*[Voir le classement de l'équipage](${properties.GOOGLE_SHEET_CLASSEMENT}) and also $properties.GOOGLE_SHEET_CLASSEMENT*\"\n",
    "\n",
    "def parser(match_obj: re.Match) -> str:\n",
    "    property = match_obj.group(0)\n",
    "    property = re.sub(r\"[\\$\\{\\}]\",\"\",property)\n",
    "    properties = {\"properties\": {\n",
    "        \"GOOGLE_FORM_PR_VIEW\": \"https://docs.google.com/forms/d/e/1FAIpQLSeEomm3cNsaDCmhAfWVHP8dqGP1jGwo_MFcnEsEj2tRyLHcyQ/viewform?usp=sf_link\",\n",
    "        \"GOOGLE_FORM_PR_POST\": \"https://docs.google.com/forms/u/0/d/e/1FAIpQLSeEomm3cNsaDCmhAfWVHP8dqGP1jGwo_MFcnEsEj2tRyLHcyQ/formResponse\",\n",
    "        \"GOOGLE_SHEET_CLASSEMENT\": \"https://docs.google.com/spreadsheets/d/1ZgHSYOkEw6VC27ZsQ930pB9pOBSwI_bvuVDaAnu7DE4/edit#gid=947482314\"\n",
    "    }}\n",
    "    for key in property.split(\".\"):\n",
    "        properties = properties[key]\n",
    "    return properties\n",
    "re.sub(pattern,parser,txt)"
   ]
  }
 ],
 "metadata": {
  "kernelspec": {
   "display_name": "venv",
   "language": "python",
   "name": "python3"
  },
  "language_info": {
   "codemirror_mode": {
    "name": "ipython",
    "version": 3
   },
   "file_extension": ".py",
   "mimetype": "text/x-python",
   "name": "python",
   "nbconvert_exporter": "python",
   "pygments_lexer": "ipython3",
   "version": "3.12.0"
  }
 },
 "nbformat": 4,
 "nbformat_minor": 2
}
